{
 "cells": [
  {
   "cell_type": "markdown",
   "id": "e71d66a0-05ea-4d66-afd9-9a177d8bc87e",
   "metadata": {},
   "source": [
    "# Pandas Advance-1 Assignment"
   ]
  },
  {
   "cell_type": "code",
   "execution_count": 14,
   "id": "d762101b-8634-46f4-867c-88ff11d4a128",
   "metadata": {},
   "outputs": [],
   "source": [
    "import pandas as pd"
   ]
  },
  {
   "cell_type": "markdown",
   "id": "3f5de25c-c3e3-4b57-9958-c105acdf2827",
   "metadata": {},
   "source": [
    "## Q1. List any five functions of the pandas library with execution.\n",
    "### Answer:- \n"
   ]
  },
  {
   "cell_type": "markdown",
   "id": "f4a9188d-c119-49fc-b57a-2d4158af20e3",
   "metadata": {},
   "source": [
    "### here are five common functions of the pandas library with execution examples:\n",
    "\n",
    "### 1. read_csv: Reads a CSV file into a pandas DataFrame."
   ]
  },
  {
   "cell_type": "code",
   "execution_count": 15,
   "id": "8fe95e59-1f89-4789-91b1-1e6414df13c2",
   "metadata": {},
   "outputs": [],
   "source": [
    "df = pd.read_csv(\"services.csv\")"
   ]
  },
  {
   "cell_type": "markdown",
   "id": "00451a42-613a-497d-9944-e5f36f3fb757",
   "metadata": {},
   "source": [
    "### 2. head: Returns the first n rows of a DataFrame."
   ]
  },
  {
   "cell_type": "code",
   "execution_count": 16,
   "id": "946aed8f-45f8-4fa4-9099-48305923d020",
   "metadata": {},
   "outputs": [
    {
     "data": {
      "text/html": [
       "<div>\n",
       "<style scoped>\n",
       "    .dataframe tbody tr th:only-of-type {\n",
       "        vertical-align: middle;\n",
       "    }\n",
       "\n",
       "    .dataframe tbody tr th {\n",
       "        vertical-align: top;\n",
       "    }\n",
       "\n",
       "    .dataframe thead th {\n",
       "        text-align: right;\n",
       "    }\n",
       "</style>\n",
       "<table border=\"1\" class=\"dataframe\">\n",
       "  <thead>\n",
       "    <tr style=\"text-align: right;\">\n",
       "      <th></th>\n",
       "      <th>id</th>\n",
       "      <th>location_id</th>\n",
       "      <th>program_id</th>\n",
       "      <th>accepted_payments</th>\n",
       "      <th>alternate_name</th>\n",
       "      <th>application_process</th>\n",
       "      <th>audience</th>\n",
       "      <th>description</th>\n",
       "      <th>eligibility</th>\n",
       "      <th>email</th>\n",
       "      <th>...</th>\n",
       "      <th>interpretation_services</th>\n",
       "      <th>keywords</th>\n",
       "      <th>languages</th>\n",
       "      <th>name</th>\n",
       "      <th>required_documents</th>\n",
       "      <th>service_areas</th>\n",
       "      <th>status</th>\n",
       "      <th>wait_time</th>\n",
       "      <th>website</th>\n",
       "      <th>taxonomy_ids</th>\n",
       "    </tr>\n",
       "  </thead>\n",
       "  <tbody>\n",
       "    <tr>\n",
       "      <th>0</th>\n",
       "      <td>1</td>\n",
       "      <td>1</td>\n",
       "      <td>NaN</td>\n",
       "      <td>NaN</td>\n",
       "      <td>NaN</td>\n",
       "      <td>Walk in or apply by phone.</td>\n",
       "      <td>Older adults age 55 or over, ethnic minorities...</td>\n",
       "      <td>A walk-in center for older adults that provide...</td>\n",
       "      <td>Age 55 or over for most programs, age 60 or ov...</td>\n",
       "      <td>NaN</td>\n",
       "      <td>...</td>\n",
       "      <td>NaN</td>\n",
       "      <td>ADULT PROTECTION AND CARE SERVICES, Meal Sites...</td>\n",
       "      <td>NaN</td>\n",
       "      <td>Fair Oaks Adult Activity Center</td>\n",
       "      <td>NaN</td>\n",
       "      <td>Colma</td>\n",
       "      <td>active</td>\n",
       "      <td>No wait.</td>\n",
       "      <td>NaN</td>\n",
       "      <td>NaN</td>\n",
       "    </tr>\n",
       "    <tr>\n",
       "      <th>1</th>\n",
       "      <td>2</td>\n",
       "      <td>2</td>\n",
       "      <td>NaN</td>\n",
       "      <td>NaN</td>\n",
       "      <td>NaN</td>\n",
       "      <td>Apply by phone for an appointment.</td>\n",
       "      <td>Residents of San Mateo County age 55 or over</td>\n",
       "      <td>Provides training and job placement to eligibl...</td>\n",
       "      <td>Age 55 or over, county resident and willing an...</td>\n",
       "      <td>NaN</td>\n",
       "      <td>...</td>\n",
       "      <td>NaN</td>\n",
       "      <td>EMPLOYMENT/TRAINING SERVICES, Job Development,...</td>\n",
       "      <td>NaN</td>\n",
       "      <td>Second Career Employment Program</td>\n",
       "      <td>NaN</td>\n",
       "      <td>San Mateo County</td>\n",
       "      <td>active</td>\n",
       "      <td>Varies.</td>\n",
       "      <td>NaN</td>\n",
       "      <td>NaN</td>\n",
       "    </tr>\n",
       "    <tr>\n",
       "      <th>2</th>\n",
       "      <td>3</td>\n",
       "      <td>3</td>\n",
       "      <td>NaN</td>\n",
       "      <td>NaN</td>\n",
       "      <td>NaN</td>\n",
       "      <td>Phone for information (403-4300 Ext. 4322).</td>\n",
       "      <td>Older adults age 55 or over who can benefit fr...</td>\n",
       "      <td>Offers supportive counseling services to San M...</td>\n",
       "      <td>Resident of San Mateo County age 55 or over</td>\n",
       "      <td>NaN</td>\n",
       "      <td>...</td>\n",
       "      <td>NaN</td>\n",
       "      <td>Geriatric Counseling, Older Adults, Gay, Lesbi...</td>\n",
       "      <td>NaN</td>\n",
       "      <td>Senior Peer Counseling</td>\n",
       "      <td>NaN</td>\n",
       "      <td>San Mateo County</td>\n",
       "      <td>active</td>\n",
       "      <td>Varies.</td>\n",
       "      <td>NaN</td>\n",
       "      <td>NaN</td>\n",
       "    </tr>\n",
       "  </tbody>\n",
       "</table>\n",
       "<p>3 rows × 22 columns</p>\n",
       "</div>"
      ],
      "text/plain": [
       "   id  location_id  program_id accepted_payments alternate_name  \\\n",
       "0   1            1         NaN               NaN            NaN   \n",
       "1   2            2         NaN               NaN            NaN   \n",
       "2   3            3         NaN               NaN            NaN   \n",
       "\n",
       "                           application_process  \\\n",
       "0                   Walk in or apply by phone.   \n",
       "1           Apply by phone for an appointment.   \n",
       "2  Phone for information (403-4300 Ext. 4322).   \n",
       "\n",
       "                                            audience  \\\n",
       "0  Older adults age 55 or over, ethnic minorities...   \n",
       "1       Residents of San Mateo County age 55 or over   \n",
       "2  Older adults age 55 or over who can benefit fr...   \n",
       "\n",
       "                                         description  \\\n",
       "0  A walk-in center for older adults that provide...   \n",
       "1  Provides training and job placement to eligibl...   \n",
       "2  Offers supportive counseling services to San M...   \n",
       "\n",
       "                                         eligibility email  ...  \\\n",
       "0  Age 55 or over for most programs, age 60 or ov...   NaN  ...   \n",
       "1  Age 55 or over, county resident and willing an...   NaN  ...   \n",
       "2        Resident of San Mateo County age 55 or over   NaN  ...   \n",
       "\n",
       "  interpretation_services                                           keywords  \\\n",
       "0                     NaN  ADULT PROTECTION AND CARE SERVICES, Meal Sites...   \n",
       "1                     NaN  EMPLOYMENT/TRAINING SERVICES, Job Development,...   \n",
       "2                     NaN  Geriatric Counseling, Older Adults, Gay, Lesbi...   \n",
       "\n",
       "  languages                              name required_documents  \\\n",
       "0       NaN   Fair Oaks Adult Activity Center                NaN   \n",
       "1       NaN  Second Career Employment Program                NaN   \n",
       "2       NaN            Senior Peer Counseling                NaN   \n",
       "\n",
       "      service_areas  status wait_time website taxonomy_ids  \n",
       "0             Colma  active  No wait.     NaN          NaN  \n",
       "1  San Mateo County  active   Varies.     NaN          NaN  \n",
       "2  San Mateo County  active   Varies.     NaN          NaN  \n",
       "\n",
       "[3 rows x 22 columns]"
      ]
     },
     "execution_count": 16,
     "metadata": {},
     "output_type": "execute_result"
    }
   ],
   "source": [
    "df.head(3)"
   ]
  },
  {
   "cell_type": "markdown",
   "id": "b15f2244-d0a9-4dd9-8af8-f3634fff0429",
   "metadata": {},
   "source": [
    "### 3. groupby: Groups the DataFrame by one or more columns and applies an aggregation function."
   ]
  },
  {
   "cell_type": "code",
   "execution_count": 17,
   "id": "1f8ddbc1-e100-4d17-b6f0-0d60f209c453",
   "metadata": {},
   "outputs": [
    {
     "name": "stderr",
     "output_type": "stream",
     "text": [
      "/tmp/ipykernel_429/1841697772.py:1: FutureWarning: The default value of numeric_only in DataFrameGroupBy.mean is deprecated. In a future version, numeric_only will default to False. Either specify numeric_only or select only columns which should be valid for the function.\n",
      "  grouped = df.groupby('service_areas').mean()\n"
     ]
    }
   ],
   "source": [
    "grouped = df.groupby('service_areas').mean()"
   ]
  },
  {
   "cell_type": "code",
   "execution_count": 18,
   "id": "092d8fbf-58e5-475b-86b7-d6ee051203e7",
   "metadata": {},
   "outputs": [
    {
     "data": {
      "text/html": [
       "<div>\n",
       "<style scoped>\n",
       "    .dataframe tbody tr th:only-of-type {\n",
       "        vertical-align: middle;\n",
       "    }\n",
       "\n",
       "    .dataframe tbody tr th {\n",
       "        vertical-align: top;\n",
       "    }\n",
       "\n",
       "    .dataframe thead th {\n",
       "        text-align: right;\n",
       "    }\n",
       "</style>\n",
       "<table border=\"1\" class=\"dataframe\">\n",
       "  <thead>\n",
       "    <tr style=\"text-align: right;\">\n",
       "      <th></th>\n",
       "      <th>id</th>\n",
       "      <th>location_id</th>\n",
       "      <th>program_id</th>\n",
       "    </tr>\n",
       "    <tr>\n",
       "      <th>service_areas</th>\n",
       "      <th></th>\n",
       "      <th></th>\n",
       "      <th></th>\n",
       "    </tr>\n",
       "  </thead>\n",
       "  <tbody>\n",
       "    <tr>\n",
       "      <th>Alameda County, San Mateo County</th>\n",
       "      <td>18.5</td>\n",
       "      <td>18.5</td>\n",
       "      <td>NaN</td>\n",
       "    </tr>\n",
       "    <tr>\n",
       "      <th>Belmont, Burlingame</th>\n",
       "      <td>19.0</td>\n",
       "      <td>19.0</td>\n",
       "      <td>NaN</td>\n",
       "    </tr>\n",
       "    <tr>\n",
       "      <th>Belmont, Burlingame, East Palo Alto</th>\n",
       "      <td>10.5</td>\n",
       "      <td>10.5</td>\n",
       "      <td>NaN</td>\n",
       "    </tr>\n",
       "  </tbody>\n",
       "</table>\n",
       "</div>"
      ],
      "text/plain": [
       "                                       id  location_id  program_id\n",
       "service_areas                                                     \n",
       "Alameda County, San Mateo County     18.5         18.5         NaN\n",
       "Belmont, Burlingame                  19.0         19.0         NaN\n",
       "Belmont, Burlingame, East Palo Alto  10.5         10.5         NaN"
      ]
     },
     "execution_count": 18,
     "metadata": {},
     "output_type": "execute_result"
    }
   ],
   "source": [
    "grouped.head(3)"
   ]
  },
  {
   "cell_type": "markdown",
   "id": "9dcf891d-f311-4576-9625-0f821e07f9d1",
   "metadata": {},
   "source": [
    "### 4.value_counts: Returns a Series containing counts of unique values in a DataFrame column."
   ]
  },
  {
   "cell_type": "code",
   "execution_count": 19,
   "id": "1e2f642c-657c-4530-a6df-72ea6952443d",
   "metadata": {},
   "outputs": [],
   "source": [
    "vc=df['location_id'].value_counts()"
   ]
  },
  {
   "cell_type": "code",
   "execution_count": 20,
   "id": "3b018a9d-5e8a-4604-820a-4880a12781e3",
   "metadata": {},
   "outputs": [
    {
     "data": {
      "text/plain": [
       "22    2\n",
       "2     1\n",
       "21    1\n",
       "20    1\n",
       "19    1\n",
       "Name: location_id, dtype: int64"
      ]
     },
     "execution_count": 20,
     "metadata": {},
     "output_type": "execute_result"
    }
   ],
   "source": [
    "vc.head()"
   ]
  },
  {
   "cell_type": "markdown",
   "id": "3d002dc9-653d-4227-a4c8-e8f5bbd55659",
   "metadata": {},
   "source": [
    "### 5. sort_values: Sorts a DataFrame by one or more columns."
   ]
  },
  {
   "cell_type": "code",
   "execution_count": 21,
   "id": "b0a1d512-dfdf-4a78-a40d-1dd6aaba89d5",
   "metadata": {},
   "outputs": [],
   "source": [
    "sorted_df = df.sort_values(by='program_id', ascending=False)"
   ]
  },
  {
   "cell_type": "code",
   "execution_count": 22,
   "id": "48f029d3-7efc-401a-9367-e565fe35012b",
   "metadata": {},
   "outputs": [
    {
     "data": {
      "text/html": [
       "<div>\n",
       "<style scoped>\n",
       "    .dataframe tbody tr th:only-of-type {\n",
       "        vertical-align: middle;\n",
       "    }\n",
       "\n",
       "    .dataframe tbody tr th {\n",
       "        vertical-align: top;\n",
       "    }\n",
       "\n",
       "    .dataframe thead th {\n",
       "        text-align: right;\n",
       "    }\n",
       "</style>\n",
       "<table border=\"1\" class=\"dataframe\">\n",
       "  <thead>\n",
       "    <tr style=\"text-align: right;\">\n",
       "      <th></th>\n",
       "      <th>id</th>\n",
       "      <th>location_id</th>\n",
       "      <th>program_id</th>\n",
       "      <th>accepted_payments</th>\n",
       "      <th>alternate_name</th>\n",
       "      <th>application_process</th>\n",
       "      <th>audience</th>\n",
       "      <th>description</th>\n",
       "      <th>eligibility</th>\n",
       "      <th>email</th>\n",
       "      <th>...</th>\n",
       "      <th>interpretation_services</th>\n",
       "      <th>keywords</th>\n",
       "      <th>languages</th>\n",
       "      <th>name</th>\n",
       "      <th>required_documents</th>\n",
       "      <th>service_areas</th>\n",
       "      <th>status</th>\n",
       "      <th>wait_time</th>\n",
       "      <th>website</th>\n",
       "      <th>taxonomy_ids</th>\n",
       "    </tr>\n",
       "  </thead>\n",
       "  <tbody>\n",
       "    <tr>\n",
       "      <th>0</th>\n",
       "      <td>1</td>\n",
       "      <td>1</td>\n",
       "      <td>NaN</td>\n",
       "      <td>NaN</td>\n",
       "      <td>NaN</td>\n",
       "      <td>Walk in or apply by phone.</td>\n",
       "      <td>Older adults age 55 or over, ethnic minorities...</td>\n",
       "      <td>A walk-in center for older adults that provide...</td>\n",
       "      <td>Age 55 or over for most programs, age 60 or ov...</td>\n",
       "      <td>NaN</td>\n",
       "      <td>...</td>\n",
       "      <td>NaN</td>\n",
       "      <td>ADULT PROTECTION AND CARE SERVICES, Meal Sites...</td>\n",
       "      <td>NaN</td>\n",
       "      <td>Fair Oaks Adult Activity Center</td>\n",
       "      <td>NaN</td>\n",
       "      <td>Colma</td>\n",
       "      <td>active</td>\n",
       "      <td>No wait.</td>\n",
       "      <td>NaN</td>\n",
       "      <td>NaN</td>\n",
       "    </tr>\n",
       "    <tr>\n",
       "      <th>1</th>\n",
       "      <td>2</td>\n",
       "      <td>2</td>\n",
       "      <td>NaN</td>\n",
       "      <td>NaN</td>\n",
       "      <td>NaN</td>\n",
       "      <td>Apply by phone for an appointment.</td>\n",
       "      <td>Residents of San Mateo County age 55 or over</td>\n",
       "      <td>Provides training and job placement to eligibl...</td>\n",
       "      <td>Age 55 or over, county resident and willing an...</td>\n",
       "      <td>NaN</td>\n",
       "      <td>...</td>\n",
       "      <td>NaN</td>\n",
       "      <td>EMPLOYMENT/TRAINING SERVICES, Job Development,...</td>\n",
       "      <td>NaN</td>\n",
       "      <td>Second Career Employment Program</td>\n",
       "      <td>NaN</td>\n",
       "      <td>San Mateo County</td>\n",
       "      <td>active</td>\n",
       "      <td>Varies.</td>\n",
       "      <td>NaN</td>\n",
       "      <td>NaN</td>\n",
       "    </tr>\n",
       "    <tr>\n",
       "      <th>2</th>\n",
       "      <td>3</td>\n",
       "      <td>3</td>\n",
       "      <td>NaN</td>\n",
       "      <td>NaN</td>\n",
       "      <td>NaN</td>\n",
       "      <td>Phone for information (403-4300 Ext. 4322).</td>\n",
       "      <td>Older adults age 55 or over who can benefit fr...</td>\n",
       "      <td>Offers supportive counseling services to San M...</td>\n",
       "      <td>Resident of San Mateo County age 55 or over</td>\n",
       "      <td>NaN</td>\n",
       "      <td>...</td>\n",
       "      <td>NaN</td>\n",
       "      <td>Geriatric Counseling, Older Adults, Gay, Lesbi...</td>\n",
       "      <td>NaN</td>\n",
       "      <td>Senior Peer Counseling</td>\n",
       "      <td>NaN</td>\n",
       "      <td>San Mateo County</td>\n",
       "      <td>active</td>\n",
       "      <td>Varies.</td>\n",
       "      <td>NaN</td>\n",
       "      <td>NaN</td>\n",
       "    </tr>\n",
       "  </tbody>\n",
       "</table>\n",
       "<p>3 rows × 22 columns</p>\n",
       "</div>"
      ],
      "text/plain": [
       "   id  location_id  program_id accepted_payments alternate_name  \\\n",
       "0   1            1         NaN               NaN            NaN   \n",
       "1   2            2         NaN               NaN            NaN   \n",
       "2   3            3         NaN               NaN            NaN   \n",
       "\n",
       "                           application_process  \\\n",
       "0                   Walk in or apply by phone.   \n",
       "1           Apply by phone for an appointment.   \n",
       "2  Phone for information (403-4300 Ext. 4322).   \n",
       "\n",
       "                                            audience  \\\n",
       "0  Older adults age 55 or over, ethnic minorities...   \n",
       "1       Residents of San Mateo County age 55 or over   \n",
       "2  Older adults age 55 or over who can benefit fr...   \n",
       "\n",
       "                                         description  \\\n",
       "0  A walk-in center for older adults that provide...   \n",
       "1  Provides training and job placement to eligibl...   \n",
       "2  Offers supportive counseling services to San M...   \n",
       "\n",
       "                                         eligibility email  ...  \\\n",
       "0  Age 55 or over for most programs, age 60 or ov...   NaN  ...   \n",
       "1  Age 55 or over, county resident and willing an...   NaN  ...   \n",
       "2        Resident of San Mateo County age 55 or over   NaN  ...   \n",
       "\n",
       "  interpretation_services                                           keywords  \\\n",
       "0                     NaN  ADULT PROTECTION AND CARE SERVICES, Meal Sites...   \n",
       "1                     NaN  EMPLOYMENT/TRAINING SERVICES, Job Development,...   \n",
       "2                     NaN  Geriatric Counseling, Older Adults, Gay, Lesbi...   \n",
       "\n",
       "  languages                              name required_documents  \\\n",
       "0       NaN   Fair Oaks Adult Activity Center                NaN   \n",
       "1       NaN  Second Career Employment Program                NaN   \n",
       "2       NaN            Senior Peer Counseling                NaN   \n",
       "\n",
       "      service_areas  status wait_time website taxonomy_ids  \n",
       "0             Colma  active  No wait.     NaN          NaN  \n",
       "1  San Mateo County  active   Varies.     NaN          NaN  \n",
       "2  San Mateo County  active   Varies.     NaN          NaN  \n",
       "\n",
       "[3 rows x 22 columns]"
      ]
     },
     "execution_count": 22,
     "metadata": {},
     "output_type": "execute_result"
    }
   ],
   "source": [
    "sorted_df.head(3)"
   ]
  },
  {
   "cell_type": "markdown",
   "id": "e6456f1c-644f-4c30-99a2-1d4c50687c50",
   "metadata": {},
   "source": [
    "## Q2. Given a Pandas DataFrame df with columns 'A', 'B', and 'C', write a Python function to re-index the DataFrame with a new index that starts from 1 and increments by 2 for each row.\n",
    "### Answer:-"
   ]
  },
  {
   "cell_type": "code",
   "execution_count": 23,
   "id": "e130ccd6-fb08-4857-8d42-cf45e62f67ca",
   "metadata": {},
   "outputs": [],
   "source": [
    "def reindex_df(df):\n",
    "    \n",
    "    new_index = range(1, len(df)*2, 2) \n",
    "    \n",
    "    df = df.reset_index(drop=True) \n",
    "    \n",
    "    df.index = new_index \n",
    "    \n",
    "    return df\n"
   ]
  },
  {
   "cell_type": "code",
   "execution_count": 24,
   "id": "107a8022-fe2e-4acb-b7e5-fa3f29ad6eda",
   "metadata": {},
   "outputs": [
    {
     "name": "stdout",
     "output_type": "stream",
     "text": [
      "   A  B  C\n",
      "1  1  4  7\n",
      "3  2  5  8\n",
      "5  3  6  9\n"
     ]
    }
   ],
   "source": [
    "\n",
    "df = pd.DataFrame({'A': [1, 2, 3], 'B': [4, 5, 6], 'C': [7, 8, 9]})\n",
    "\n",
    "reindexed_df = reindex_df(df)\n",
    "\n",
    "print(reindexed_df)\n"
   ]
  },
  {
   "cell_type": "markdown",
   "id": "e6b36c35-b759-41d5-af8a-e64c2b2312a3",
   "metadata": {},
   "source": [
    "### Q3. You have a Pandas DataFrame df with a column named 'Values'. Write a Python function that iterates over the DataFrame and calculates the sum of the first three values in the 'Values' column. The function should print the sum to the console. For example, if the 'Values' column of df contains the values [10, 20, 30, 40, 50], your function should calculate and print the sum of the first three values, which is 60."
   ]
  },
  {
   "cell_type": "code",
   "execution_count": 25,
   "id": "00dd2913-5055-4db4-928b-3fa3218b387e",
   "metadata": {},
   "outputs": [],
   "source": [
    "data = {\"Values\" : [10,20,30,40,50]}\n",
    "df = pd.DataFrame(data)"
   ]
  },
  {
   "cell_type": "code",
   "execution_count": 26,
   "id": "93195379-9709-4a91-8791-9d0faa8764b9",
   "metadata": {},
   "outputs": [],
   "source": [
    "def calculate_sum(df):\n",
    "    sum = 0\n",
    "    for i in range(3):\n",
    "        sum += df.loc[i, 'Values']\n",
    "    print('The sum of the first three values in the \"Values\" column is:', sum)"
   ]
  },
  {
   "cell_type": "code",
   "execution_count": 29,
   "id": "cdd930bb-bf51-4658-9b0c-c0e600d934fb",
   "metadata": {},
   "outputs": [
    {
     "name": "stdout",
     "output_type": "stream",
     "text": [
      "The sum of the first three values in the \"Values\" column is: 60\n"
     ]
    }
   ],
   "source": [
    "calculate_sum(df)"
   ]
  },
  {
   "cell_type": "markdown",
   "id": "4cbf5c10-6f16-4542-9a42-04b488806186",
   "metadata": {},
   "source": [
    "## Q4. Given a Pandas DataFrame df with a column 'Text', write a Python function to create a new column 'Word_Count' that contains the number of words in each row of the 'Text' column."
   ]
  },
  {
   "cell_type": "code",
   "execution_count": 31,
   "id": "6e9c9d32-0d72-4df0-8477-5aa517759732",
   "metadata": {},
   "outputs": [],
   "source": [
    "\n",
    "\n",
    "def add_word_count(df):\n",
    "    \n",
    "    df['Word_Count'] = df['Text'].apply(lambda x: len(x.split()))\n",
    "    \n",
    "    return df\n"
   ]
  },
  {
   "cell_type": "code",
   "execution_count": 32,
   "id": "12c39566-59d0-41e9-ab92-3ce521a5360f",
   "metadata": {},
   "outputs": [
    {
     "name": "stdout",
     "output_type": "stream",
     "text": [
      "                               Text  Word_Count\n",
      "0        This is a sample sentence.           5\n",
      "1  This is another sample sentence.           5\n",
      "2             Yet another sentence.           3\n"
     ]
    }
   ],
   "source": [
    "\n",
    "df = pd.DataFrame({'Text': ['This is a sample sentence.', 'This is another sample sentence.', 'Yet another sentence.']})\n",
    "df = add_word_count(df)\n",
    "print(df)\n"
   ]
  },
  {
   "cell_type": "markdown",
   "id": "11ae2d19-f371-4339-91a7-9ace6dd302ea",
   "metadata": {},
   "source": [
    "## Q5. How are DataFrame.size() and DataFrame.shape() different?\n",
    "### Answer:-"
   ]
  },
  {
   "cell_type": "markdown",
   "id": "1b0398df-ec41-4e4f-ac02-40794ab6b901",
   "metadata": {},
   "source": [
    "### DataFrame.size and DataFrame.shape are both methods in Pandas that are used to get information about the size of a DataFrame, but they return different values.\n",
    "### DataFrame.size returns the total number of elements in the DataFrame. This is calculated by multiplying the number of rows by the number of columns. For example, if a DataFrame has 5 rows and 3 columns, DataFrame.size will return 15.\n",
    "### DataFrame.shape returns a tuple containing the number of rows and columns in the DataFrame, in that order. For example, if a DataFrame has 5 rows and 3 columns, DataFrame.shape will return (5, 3)."
   ]
  },
  {
   "cell_type": "markdown",
   "id": "0c50fa24-12c6-4934-9243-08194b6e58fe",
   "metadata": {},
   "source": [
    "## Q6. Which function of pandas do we use to read an excel file?\n",
    "### Answer:-\n",
    "### To read an Excel file in Pandas, we use the read_excel function. The read_excel function is a part of the pandas module and is used to read data from an Excel file into a pandas DataFrame.\n",
    "### df = pd.read_excel('data.xlsx')\n",
    "\n"
   ]
  },
  {
   "cell_type": "markdown",
   "id": "982ab468-6025-43c7-818e-b7d2ed836ec8",
   "metadata": {},
   "source": [
    "## Q7. You have a Pandas DataFrame df that contains a column named 'Email' that contains email addresses in the format 'username@domain.com'. Write a Python function that creates a new column 'Username' in df that contains only the username part of each email address. The username is the part of the email address that appears before the '@' symbol. For example, if the email address is 'john.doe@example.com', the 'Username' column should contain 'john.doe'. Your function should extract the username from each email address and store it in the new 'Username' column."
   ]
  },
  {
   "cell_type": "code",
   "execution_count": 35,
   "id": "377e4704-e5df-4687-b40f-4e8cbba301ad",
   "metadata": {},
   "outputs": [],
   "source": [
    "\n",
    "\n",
    "def extract_username(df):\n",
    "    # split email addresses at '@' symbol and extract first part\n",
    "    df['Username'] = df['Email'].str.split('@').str[0]\n",
    "    \n",
    "    return df\n"
   ]
  },
  {
   "cell_type": "code",
   "execution_count": 36,
   "id": "c2e9dff4-3600-4484-aeb3-5670bd629589",
   "metadata": {},
   "outputs": [
    {
     "name": "stdout",
     "output_type": "stream",
     "text": [
      "                   Email   Username\n",
      "0   john.doe@example.com   john.doe\n",
      "1   jane.doe@example.com   jane.doe\n",
      "2  bob.smith@example.com  bob.smith\n"
     ]
    }
   ],
   "source": [
    "\n",
    "df = pd.DataFrame({'Email': ['john.doe@example.com', 'jane.doe@example.com', 'bob.smith@example.com']})\n",
    "\n",
    "df = extract_username(df)\n",
    "\n",
    "print(df)\n"
   ]
  },
  {
   "cell_type": "markdown",
   "id": "5e1f8866-a8ba-4db5-ab0e-7d931acffdef",
   "metadata": {},
   "source": [
    "## Q8. You have a Pandas DataFrame df with columns 'A', 'B', and 'C'. Write a Python function that selects all rows where the value in column 'A' is greater than 5 and the value in column 'B' is less than 10. The function should return a new DataFrame that contains only the selected rows. For example, if df contains the following values:\n",
    "####  A B C\n",
    "####  0 3 5 1\n",
    "####  1 8 2 7\n",
    "####  2 6 9 4\n",
    "####  3 2 3 5\n",
    "####  4 9 1 2"
   ]
  },
  {
   "cell_type": "code",
   "execution_count": 38,
   "id": "1eab6fd4-bf46-4ae4-a062-2b71f08170b2",
   "metadata": {},
   "outputs": [],
   "source": [
    "def select_rows(df):\n",
    "    \n",
    "    # select rows where A > 5 and B < 10\n",
    "    \n",
    "    selected_rows = df.loc[(df['A'] > 5) & (df['B'] < 10)]\n",
    "    \n",
    "    return selected_rows\n"
   ]
  },
  {
   "cell_type": "code",
   "execution_count": 39,
   "id": "8969ec5b-aa43-4ca3-9164-51fefadeeef0",
   "metadata": {},
   "outputs": [
    {
     "name": "stdout",
     "output_type": "stream",
     "text": [
      "   A  B  C\n",
      "1  8  2  7\n",
      "2  6  9  4\n",
      "4  9  1  2\n"
     ]
    }
   ],
   "source": [
    "\n",
    "df = pd.DataFrame({'A': [3, 8, 6, 2, 9],\n",
    "                   'B': [5, 2, 9, 3, 1],\n",
    "                   'C': [1, 7, 4, 5, 2]})\n",
    "\n",
    "selected_rows = select_rows(df)\n",
    "\n",
    "print(selected_rows)\n"
   ]
  },
  {
   "cell_type": "code",
   "execution_count": null,
   "id": "5cb5e91c-5cac-4521-97b5-1579ca243c92",
   "metadata": {},
   "outputs": [],
   "source": []
  }
 ],
 "metadata": {
  "kernelspec": {
   "display_name": "Python 3 (ipykernel)",
   "language": "python",
   "name": "python3"
  },
  "language_info": {
   "codemirror_mode": {
    "name": "ipython",
    "version": 3
   },
   "file_extension": ".py",
   "mimetype": "text/x-python",
   "name": "python",
   "nbconvert_exporter": "python",
   "pygments_lexer": "ipython3",
   "version": "3.10.8"
  }
 },
 "nbformat": 4,
 "nbformat_minor": 5
}
